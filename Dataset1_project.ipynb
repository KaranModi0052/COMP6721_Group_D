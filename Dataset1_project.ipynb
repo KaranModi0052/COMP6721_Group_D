{
  "nbformat": 4,
  "nbformat_minor": 0,
  "metadata": {
    "colab": {
      "provenance": []
    },
    "kernelspec": {
      "name": "python3",
      "display_name": "Python 3"
    },
    "language_info": {
      "name": "python"
    },
    "accelerator": "GPU",
    "gpuClass": "standard"
  },
  "cells": [
    {
      "cell_type": "code",
      "execution_count": 1,
      "metadata": {
        "colab": {
          "base_uri": "https://localhost:8080/"
        },
        "id": "sLE6OPz6k516",
        "outputId": "7d6dc3d8-5199-4a85-cd56-c580af981dc0"
      },
      "outputs": [
        {
          "output_type": "stream",
          "name": "stdout",
          "text": [
            "Mounted at /content/gdrive\n"
          ]
        }
      ],
      "source": [
        "# mount Google Drive\n",
        "from google.colab import drive\n",
        "drive.mount('/content/gdrive')"
      ]
    },
    {
      "cell_type": "code",
      "source": [
        "import torch\n",
        "import torchvision.transforms as transforms\n",
        "import torchvision.datasets as datasets\n",
        "import torch.utils.data as td\n",
        "import numpy as np\n",
        "import matplotlib.pyplot as plt\n",
        "import torch.nn as nn\n",
        "import torch.nn.functional as F\n",
        "from matplotlib import image\n",
        "from matplotlib import pyplot\n",
        "import time"
      ],
      "metadata": {
        "id": "0cEF16PPnDig"
      },
      "execution_count": 2,
      "outputs": []
    },
    {
      "cell_type": "code",
      "source": [
        "from numpy.core.fromnumeric import shape\n",
        "def load_data(path,batch_size,input_size):\n",
        "    \n",
        "    normalize = transforms.Compose([\n",
        "        transforms.Resize((input_size,input_size)),\n",
        "        transforms.RandomHorizontalFlip(),\n",
        "        transforms.ToTensor(),\n",
        "        transforms.Normalize(mean=[0.5, 0.5, 0.5], std=[0.5, 0.5, 0.5])\n",
        "        ]) \n",
        "    transform_dict = {\"src\":  normalize}  \n",
        "    data = datasets.ImageFolder(root=path,transform=transform_dict[\"src\"])\n",
        "    train_size=int(0.75*len(data))\n",
        "    print(len(data))\n",
        "    test_size=int(len(data)-train_size)\n",
        "    train, test = td.random_split(data,[train_size,test_size])\n",
        "\n",
        "    data_loader_train = td.DataLoader(train,batch_size=batch_size,shuffle=True,drop_last=False,num_workers=0)\n",
        "    data_loader_test = td.DataLoader(test,batch_size=batch_size,shuffle=True,drop_last=False,num_workers=0)\n",
        "    return data_loader_train, data_loader_test"
      ],
      "metadata": {
        "id": "MyA9Qi8ynEnB"
      },
      "execution_count": 3,
      "outputs": []
    },
    {
      "cell_type": "code",
      "source": [
        "data_loader_train,data_loader_test=load_data(r\"/content/gdrive/MyDrive/Colab Notebooks/Dataset1\",32,64)"
      ],
      "metadata": {
        "colab": {
          "base_uri": "https://localhost:8080/"
        },
        "id": "gqSXf6JmJscK",
        "outputId": "c37dab54-6527-485d-cdbb-ae23bad22761"
      },
      "execution_count": 4,
      "outputs": [
        {
          "output_type": "stream",
          "name": "stdout",
          "text": [
            "21165\n"
          ]
        }
      ]
    },
    {
      "cell_type": "code",
      "source": [
        "data_loader_train.dataset"
      ],
      "metadata": {
        "colab": {
          "base_uri": "https://localhost:8080/"
        },
        "id": "DpU1i46EJ30T",
        "outputId": "c18ec372-c079-4fc9-d1d9-939a81ca02d4"
      },
      "execution_count": 5,
      "outputs": [
        {
          "output_type": "execute_result",
          "data": {
            "text/plain": [
              "<torch.utils.data.dataset.Subset at 0x7ff90af209d0>"
            ]
          },
          "metadata": {},
          "execution_count": 5
        }
      ]
    },
    {
      "cell_type": "code",
      "source": [
        "import torch.optim as optim\n",
        "from torchvision.models import resnet50\n",
        "net=resnet50(weights=None)\n",
        "resnet50(pretrained=False) \n",
        "\n",
        "criterion = nn.CrossEntropyLoss()\n",
        "optimizer = optim.SGD(net.parameters(), lr=0.01, momentum=0.9, weight_decay=0.5)\n",
        "scheduler = optim.lr_scheduler.ReduceLROnPlateau(optimizer, factor = 0.1, patience=5)"
      ],
      "metadata": {
        "colab": {
          "base_uri": "https://localhost:8080/"
        },
        "id": "Fp3wMgqgpDSY",
        "outputId": "466779e7-ae90-4f77-cd9c-291a41b36d0b"
      },
      "execution_count": 5,
      "outputs": [
        {
          "output_type": "stream",
          "name": "stderr",
          "text": [
            "/usr/local/lib/python3.7/dist-packages/torchvision/models/_utils.py:209: UserWarning: The parameter 'pretrained' is deprecated since 0.13 and will be removed in 0.15, please use 'weights' instead.\n",
            "  f\"The parameter '{pretrained_param}' is deprecated since 0.13 and will be removed in 0.15, \"\n",
            "/usr/local/lib/python3.7/dist-packages/torchvision/models/_utils.py:223: UserWarning: Arguments other than a weight enum or `None` for 'weights' are deprecated since 0.13 and will be removed in 0.15. The current behavior is equivalent to passing `weights=None`.\n",
            "  warnings.warn(msg)\n"
          ]
        }
      ]
    },
    {
      "cell_type": "code",
      "source": [
        "###### Define and run your training loop here #########\n",
        "device = torch.device(\"cuda:0\" if torch.cuda.is_available() else \"cpu\")\n",
        "print(\"Device: {}\".format(device))\n",
        "net.to(device)\n",
        "\n",
        "num_epochs = 5\n",
        "total_steps = len(data_loader_train)\n",
        "t1 = time.time()\n",
        "for epoch in range(num_epochs):\n",
        "    for i, data in enumerate(data_loader_train):\n",
        "        images, labels = data[0].to(device), data[1].to(device)\n",
        "        # Forward pass\n",
        "        outputs = net(images)\n",
        "        loss = criterion(outputs, labels)\n",
        "        optimizer.zero_grad()\n",
        "        loss.backward()\n",
        "        optimizer.step()\n",
        "        total = labels.size(0)\n",
        "        _,predicted = torch.max(outputs.data, 1)\n",
        "        correct = (predicted == labels).sum().item()\n",
        "        if (i + 1) % 10 == 0:\n",
        "            print('Epoch [{}/{}], Step [{}/{}], Loss: {:.4f}, Accuracy: {:.2f}%'\n",
        "                .format(epoch + 1, num_epochs, i + 1, total_steps, loss.item(),\n",
        "                    (correct / total) * 100))\n",
        "            \n",
        "print(\"######## Training Finished in {} seconds ###########\".format(time.time()-t1))"
      ],
      "metadata": {
        "colab": {
          "base_uri": "https://localhost:8080/"
        },
        "id": "HwJjJwGVKwlG",
        "outputId": "b64e7b31-8913-4555-a0fa-2120b0cc5a3d"
      },
      "execution_count": 6,
      "outputs": [
        {
          "output_type": "stream",
          "name": "stdout",
          "text": [
            "Device: cuda:0\n",
            "Epoch [1/5], Step [10/497], Loss: 6.4866, Accuracy: 25.00%\n",
            "Epoch [1/5], Step [20/497], Loss: 1.6674, Accuracy: 59.38%\n",
            "Epoch [1/5], Step [30/497], Loss: 2.0906, Accuracy: 46.88%\n",
            "Epoch [1/5], Step [40/497], Loss: 2.7289, Accuracy: 50.00%\n",
            "Epoch [1/5], Step [50/497], Loss: 4.4410, Accuracy: 62.50%\n",
            "Epoch [1/5], Step [60/497], Loss: 2.0016, Accuracy: 50.00%\n",
            "Epoch [1/5], Step [70/497], Loss: 1.7619, Accuracy: 28.12%\n",
            "Epoch [1/5], Step [80/497], Loss: 2.2211, Accuracy: 46.88%\n",
            "Epoch [1/5], Step [90/497], Loss: 1.9865, Accuracy: 50.00%\n",
            "Epoch [1/5], Step [100/497], Loss: 1.7471, Accuracy: 53.12%\n",
            "Epoch [1/5], Step [110/497], Loss: 1.9357, Accuracy: 46.88%\n",
            "Epoch [1/5], Step [120/497], Loss: 2.5430, Accuracy: 25.00%\n",
            "Epoch [1/5], Step [130/497], Loss: 2.1071, Accuracy: 46.88%\n",
            "Epoch [1/5], Step [140/497], Loss: 1.8383, Accuracy: 50.00%\n",
            "Epoch [1/5], Step [150/497], Loss: 1.9334, Accuracy: 56.25%\n",
            "Epoch [1/5], Step [160/497], Loss: 1.8955, Accuracy: 62.50%\n",
            "Epoch [1/5], Step [170/497], Loss: 1.9455, Accuracy: 53.12%\n",
            "Epoch [1/5], Step [180/497], Loss: 2.2386, Accuracy: 43.75%\n",
            "Epoch [1/5], Step [190/497], Loss: 2.2261, Accuracy: 37.50%\n",
            "Epoch [1/5], Step [200/497], Loss: 1.7969, Accuracy: 59.38%\n",
            "Epoch [1/5], Step [210/497], Loss: 2.0121, Accuracy: 43.75%\n",
            "Epoch [1/5], Step [220/497], Loss: 2.3008, Accuracy: 34.38%\n",
            "Epoch [1/5], Step [230/497], Loss: 1.8589, Accuracy: 46.88%\n",
            "Epoch [1/5], Step [240/497], Loss: 2.3152, Accuracy: 40.62%\n",
            "Epoch [1/5], Step [250/497], Loss: 1.9096, Accuracy: 43.75%\n",
            "Epoch [1/5], Step [260/497], Loss: 1.9033, Accuracy: 53.12%\n",
            "Epoch [1/5], Step [270/497], Loss: 1.8321, Accuracy: 53.12%\n",
            "Epoch [1/5], Step [280/497], Loss: 1.8811, Accuracy: 40.62%\n",
            "Epoch [1/5], Step [290/497], Loss: 1.8993, Accuracy: 59.38%\n",
            "Epoch [1/5], Step [300/497], Loss: 2.2854, Accuracy: 43.75%\n",
            "Epoch [1/5], Step [310/497], Loss: 2.2670, Accuracy: 28.12%\n",
            "Epoch [1/5], Step [320/497], Loss: 1.6342, Accuracy: 65.62%\n",
            "Epoch [1/5], Step [330/497], Loss: 2.0436, Accuracy: 37.50%\n",
            "Epoch [1/5], Step [340/497], Loss: 1.9362, Accuracy: 50.00%\n",
            "Epoch [1/5], Step [350/497], Loss: 1.7846, Accuracy: 56.25%\n",
            "Epoch [1/5], Step [360/497], Loss: 1.9749, Accuracy: 46.88%\n",
            "Epoch [1/5], Step [370/497], Loss: 2.3424, Accuracy: 28.12%\n",
            "Epoch [1/5], Step [380/497], Loss: 1.5831, Accuracy: 53.12%\n",
            "Epoch [1/5], Step [390/497], Loss: 1.7132, Accuracy: 46.88%\n",
            "Epoch [1/5], Step [400/497], Loss: 1.9466, Accuracy: 43.75%\n",
            "Epoch [1/5], Step [410/497], Loss: 2.1990, Accuracy: 37.50%\n",
            "Epoch [1/5], Step [420/497], Loss: 1.6306, Accuracy: 62.50%\n",
            "Epoch [1/5], Step [430/497], Loss: 1.6507, Accuracy: 53.12%\n",
            "Epoch [1/5], Step [440/497], Loss: 1.6967, Accuracy: 50.00%\n",
            "Epoch [1/5], Step [450/497], Loss: 1.6458, Accuracy: 53.12%\n",
            "Epoch [1/5], Step [460/497], Loss: 1.9145, Accuracy: 53.12%\n",
            "Epoch [1/5], Step [470/497], Loss: 1.8420, Accuracy: 62.50%\n",
            "Epoch [1/5], Step [480/497], Loss: 1.6204, Accuracy: 53.12%\n",
            "Epoch [1/5], Step [490/497], Loss: 2.0179, Accuracy: 34.38%\n",
            "Epoch [2/5], Step [10/497], Loss: 2.2393, Accuracy: 43.75%\n",
            "Epoch [2/5], Step [20/497], Loss: 2.0541, Accuracy: 59.38%\n",
            "Epoch [2/5], Step [30/497], Loss: 2.0838, Accuracy: 40.62%\n",
            "Epoch [2/5], Step [40/497], Loss: 2.0817, Accuracy: 50.00%\n",
            "Epoch [2/5], Step [50/497], Loss: 2.2627, Accuracy: 40.62%\n",
            "Epoch [2/5], Step [60/497], Loss: 1.7859, Accuracy: 53.12%\n",
            "Epoch [2/5], Step [70/497], Loss: 1.7690, Accuracy: 56.25%\n",
            "Epoch [2/5], Step [80/497], Loss: 1.9371, Accuracy: 43.75%\n",
            "Epoch [2/5], Step [90/497], Loss: 1.9117, Accuracy: 43.75%\n",
            "Epoch [2/5], Step [100/497], Loss: 2.1760, Accuracy: 46.88%\n",
            "Epoch [2/5], Step [110/497], Loss: 2.6256, Accuracy: 18.75%\n",
            "Epoch [2/5], Step [120/497], Loss: 1.9003, Accuracy: 56.25%\n",
            "Epoch [2/5], Step [130/497], Loss: 2.0495, Accuracy: 46.88%\n",
            "Epoch [2/5], Step [140/497], Loss: 2.1289, Accuracy: 34.38%\n",
            "Epoch [2/5], Step [150/497], Loss: 1.5896, Accuracy: 59.38%\n",
            "Epoch [2/5], Step [160/497], Loss: 1.5791, Accuracy: 56.25%\n",
            "Epoch [2/5], Step [170/497], Loss: 2.0361, Accuracy: 50.00%\n",
            "Epoch [2/5], Step [180/497], Loss: 1.9187, Accuracy: 40.62%\n",
            "Epoch [2/5], Step [190/497], Loss: 1.9079, Accuracy: 46.88%\n",
            "Epoch [2/5], Step [200/497], Loss: 1.9465, Accuracy: 50.00%\n",
            "Epoch [2/5], Step [210/497], Loss: 2.1552, Accuracy: 40.62%\n",
            "Epoch [2/5], Step [220/497], Loss: 1.8657, Accuracy: 46.88%\n",
            "Epoch [2/5], Step [230/497], Loss: 1.9975, Accuracy: 46.88%\n",
            "Epoch [2/5], Step [240/497], Loss: 1.7870, Accuracy: 65.62%\n",
            "Epoch [2/5], Step [250/497], Loss: 2.1130, Accuracy: 40.62%\n",
            "Epoch [2/5], Step [260/497], Loss: 1.7788, Accuracy: 62.50%\n",
            "Epoch [2/5], Step [270/497], Loss: 1.9123, Accuracy: 43.75%\n",
            "Epoch [2/5], Step [280/497], Loss: 1.9399, Accuracy: 43.75%\n",
            "Epoch [2/5], Step [290/497], Loss: 2.0026, Accuracy: 34.38%\n",
            "Epoch [2/5], Step [300/497], Loss: 1.9562, Accuracy: 50.00%\n",
            "Epoch [2/5], Step [310/497], Loss: 1.9222, Accuracy: 50.00%\n",
            "Epoch [2/5], Step [320/497], Loss: 1.8199, Accuracy: 53.12%\n",
            "Epoch [2/5], Step [330/497], Loss: 2.1894, Accuracy: 34.38%\n",
            "Epoch [2/5], Step [340/497], Loss: 1.8123, Accuracy: 56.25%\n",
            "Epoch [2/5], Step [350/497], Loss: 2.0134, Accuracy: 46.88%\n",
            "Epoch [2/5], Step [360/497], Loss: 1.8395, Accuracy: 46.88%\n",
            "Epoch [2/5], Step [370/497], Loss: 1.8504, Accuracy: 40.62%\n",
            "Epoch [2/5], Step [380/497], Loss: 1.9023, Accuracy: 46.88%\n",
            "Epoch [2/5], Step [390/497], Loss: 1.9916, Accuracy: 50.00%\n",
            "Epoch [2/5], Step [400/497], Loss: 2.1949, Accuracy: 43.75%\n",
            "Epoch [2/5], Step [410/497], Loss: 2.1019, Accuracy: 43.75%\n",
            "Epoch [2/5], Step [420/497], Loss: 2.1551, Accuracy: 46.88%\n",
            "Epoch [2/5], Step [430/497], Loss: 1.6604, Accuracy: 59.38%\n",
            "Epoch [2/5], Step [440/497], Loss: 1.8836, Accuracy: 50.00%\n",
            "Epoch [2/5], Step [450/497], Loss: 2.1113, Accuracy: 43.75%\n",
            "Epoch [2/5], Step [460/497], Loss: 2.0915, Accuracy: 34.38%\n",
            "Epoch [2/5], Step [470/497], Loss: 1.7427, Accuracy: 56.25%\n",
            "Epoch [2/5], Step [480/497], Loss: 1.6207, Accuracy: 56.25%\n",
            "Epoch [2/5], Step [490/497], Loss: 1.9787, Accuracy: 43.75%\n",
            "Epoch [3/5], Step [10/497], Loss: 2.1943, Accuracy: 53.12%\n",
            "Epoch [3/5], Step [20/497], Loss: 1.4849, Accuracy: 65.62%\n",
            "Epoch [3/5], Step [30/497], Loss: 2.1315, Accuracy: 40.62%\n",
            "Epoch [3/5], Step [40/497], Loss: 1.8338, Accuracy: 40.62%\n",
            "Epoch [3/5], Step [50/497], Loss: 1.6573, Accuracy: 59.38%\n",
            "Epoch [3/5], Step [60/497], Loss: 2.0443, Accuracy: 53.12%\n",
            "Epoch [3/5], Step [70/497], Loss: 1.7932, Accuracy: 50.00%\n",
            "Epoch [3/5], Step [80/497], Loss: 1.7497, Accuracy: 43.75%\n",
            "Epoch [3/5], Step [90/497], Loss: 1.5057, Accuracy: 59.38%\n",
            "Epoch [3/5], Step [100/497], Loss: 1.8639, Accuracy: 43.75%\n",
            "Epoch [3/5], Step [110/497], Loss: 1.6137, Accuracy: 75.00%\n",
            "Epoch [3/5], Step [120/497], Loss: 1.7535, Accuracy: 62.50%\n",
            "Epoch [3/5], Step [130/497], Loss: 2.4348, Accuracy: 37.50%\n",
            "Epoch [3/5], Step [140/497], Loss: 2.1705, Accuracy: 43.75%\n",
            "Epoch [3/5], Step [150/497], Loss: 1.7066, Accuracy: 59.38%\n",
            "Epoch [3/5], Step [160/497], Loss: 1.7034, Accuracy: 43.75%\n",
            "Epoch [3/5], Step [170/497], Loss: 1.8813, Accuracy: 40.62%\n",
            "Epoch [3/5], Step [180/497], Loss: 1.6636, Accuracy: 59.38%\n",
            "Epoch [3/5], Step [190/497], Loss: 1.7921, Accuracy: 56.25%\n",
            "Epoch [3/5], Step [200/497], Loss: 2.2996, Accuracy: 43.75%\n",
            "Epoch [3/5], Step [210/497], Loss: 1.8512, Accuracy: 59.38%\n",
            "Epoch [3/5], Step [220/497], Loss: 1.9075, Accuracy: 40.62%\n",
            "Epoch [3/5], Step [230/497], Loss: 1.7642, Accuracy: 46.88%\n",
            "Epoch [3/5], Step [240/497], Loss: 2.3338, Accuracy: 37.50%\n",
            "Epoch [3/5], Step [250/497], Loss: 1.4950, Accuracy: 68.75%\n",
            "Epoch [3/5], Step [260/497], Loss: 1.3823, Accuracy: 75.00%\n",
            "Epoch [3/5], Step [270/497], Loss: 1.9754, Accuracy: 46.88%\n",
            "Epoch [3/5], Step [280/497], Loss: 2.2119, Accuracy: 34.38%\n",
            "Epoch [3/5], Step [290/497], Loss: 2.0262, Accuracy: 37.50%\n",
            "Epoch [3/5], Step [300/497], Loss: 1.7893, Accuracy: 50.00%\n",
            "Epoch [3/5], Step [310/497], Loss: 1.7346, Accuracy: 62.50%\n",
            "Epoch [3/5], Step [320/497], Loss: 1.9348, Accuracy: 46.88%\n",
            "Epoch [3/5], Step [330/497], Loss: 2.0028, Accuracy: 37.50%\n",
            "Epoch [3/5], Step [340/497], Loss: 1.7718, Accuracy: 50.00%\n",
            "Epoch [3/5], Step [350/497], Loss: 1.8696, Accuracy: 46.88%\n",
            "Epoch [3/5], Step [360/497], Loss: 1.9349, Accuracy: 37.50%\n",
            "Epoch [3/5], Step [370/497], Loss: 1.6505, Accuracy: 62.50%\n",
            "Epoch [3/5], Step [380/497], Loss: 1.7639, Accuracy: 53.12%\n",
            "Epoch [3/5], Step [390/497], Loss: 2.3351, Accuracy: 40.62%\n",
            "Epoch [3/5], Step [400/497], Loss: 2.0663, Accuracy: 50.00%\n",
            "Epoch [3/5], Step [410/497], Loss: 1.9027, Accuracy: 46.88%\n",
            "Epoch [3/5], Step [420/497], Loss: 1.8412, Accuracy: 53.12%\n",
            "Epoch [3/5], Step [430/497], Loss: 1.6404, Accuracy: 59.38%\n",
            "Epoch [3/5], Step [440/497], Loss: 2.1101, Accuracy: 34.38%\n",
            "Epoch [3/5], Step [450/497], Loss: 2.1274, Accuracy: 50.00%\n",
            "Epoch [3/5], Step [460/497], Loss: 1.8052, Accuracy: 46.88%\n",
            "Epoch [3/5], Step [470/497], Loss: 1.9912, Accuracy: 50.00%\n",
            "Epoch [3/5], Step [480/497], Loss: 2.1412, Accuracy: 43.75%\n",
            "Epoch [3/5], Step [490/497], Loss: 1.6885, Accuracy: 53.12%\n",
            "Epoch [4/5], Step [10/497], Loss: 1.9593, Accuracy: 46.88%\n",
            "Epoch [4/5], Step [20/497], Loss: 1.8532, Accuracy: 53.12%\n",
            "Epoch [4/5], Step [30/497], Loss: 2.4834, Accuracy: 34.38%\n",
            "Epoch [4/5], Step [40/497], Loss: 2.2418, Accuracy: 40.62%\n",
            "Epoch [4/5], Step [50/497], Loss: 1.7860, Accuracy: 56.25%\n",
            "Epoch [4/5], Step [60/497], Loss: 1.6956, Accuracy: 53.12%\n",
            "Epoch [4/5], Step [70/497], Loss: 1.9467, Accuracy: 46.88%\n",
            "Epoch [4/5], Step [80/497], Loss: 1.7482, Accuracy: 53.12%\n",
            "Epoch [4/5], Step [90/497], Loss: 1.9423, Accuracy: 40.62%\n",
            "Epoch [4/5], Step [100/497], Loss: 1.8170, Accuracy: 56.25%\n",
            "Epoch [4/5], Step [110/497], Loss: 2.0415, Accuracy: 43.75%\n",
            "Epoch [4/5], Step [120/497], Loss: 2.0514, Accuracy: 53.12%\n",
            "Epoch [4/5], Step [130/497], Loss: 1.7250, Accuracy: 59.38%\n",
            "Epoch [4/5], Step [140/497], Loss: 2.0066, Accuracy: 40.62%\n",
            "Epoch [4/5], Step [150/497], Loss: 2.0019, Accuracy: 40.62%\n",
            "Epoch [4/5], Step [160/497], Loss: 1.6227, Accuracy: 75.00%\n",
            "Epoch [4/5], Step [170/497], Loss: 2.4872, Accuracy: 21.88%\n",
            "Epoch [4/5], Step [180/497], Loss: 2.0384, Accuracy: 40.62%\n",
            "Epoch [4/5], Step [190/497], Loss: 1.9519, Accuracy: 46.88%\n",
            "Epoch [4/5], Step [200/497], Loss: 1.8814, Accuracy: 50.00%\n",
            "Epoch [4/5], Step [210/497], Loss: 2.0644, Accuracy: 40.62%\n",
            "Epoch [4/5], Step [220/497], Loss: 2.1577, Accuracy: 40.62%\n",
            "Epoch [4/5], Step [230/497], Loss: 1.7264, Accuracy: 65.62%\n",
            "Epoch [4/5], Step [240/497], Loss: 1.8495, Accuracy: 46.88%\n",
            "Epoch [4/5], Step [250/497], Loss: 1.8341, Accuracy: 53.12%\n",
            "Epoch [4/5], Step [260/497], Loss: 2.3551, Accuracy: 31.25%\n",
            "Epoch [4/5], Step [270/497], Loss: 2.3220, Accuracy: 43.75%\n",
            "Epoch [4/5], Step [280/497], Loss: 1.8375, Accuracy: 53.12%\n",
            "Epoch [4/5], Step [290/497], Loss: 1.9844, Accuracy: 40.62%\n",
            "Epoch [4/5], Step [300/497], Loss: 1.8230, Accuracy: 53.12%\n",
            "Epoch [4/5], Step [310/497], Loss: 1.9122, Accuracy: 37.50%\n",
            "Epoch [4/5], Step [320/497], Loss: 2.3945, Accuracy: 40.62%\n",
            "Epoch [4/5], Step [330/497], Loss: 1.7248, Accuracy: 56.25%\n",
            "Epoch [4/5], Step [340/497], Loss: 2.1732, Accuracy: 37.50%\n",
            "Epoch [4/5], Step [350/497], Loss: 1.9084, Accuracy: 43.75%\n",
            "Epoch [4/5], Step [360/497], Loss: 1.9106, Accuracy: 43.75%\n",
            "Epoch [4/5], Step [370/497], Loss: 2.2876, Accuracy: 46.88%\n",
            "Epoch [4/5], Step [380/497], Loss: 1.7974, Accuracy: 34.38%\n",
            "Epoch [4/5], Step [390/497], Loss: 1.6565, Accuracy: 43.75%\n",
            "Epoch [4/5], Step [400/497], Loss: 2.3098, Accuracy: 37.50%\n",
            "Epoch [4/5], Step [410/497], Loss: 1.9122, Accuracy: 46.88%\n",
            "Epoch [4/5], Step [420/497], Loss: 2.0222, Accuracy: 43.75%\n",
            "Epoch [4/5], Step [430/497], Loss: 2.1345, Accuracy: 43.75%\n",
            "Epoch [4/5], Step [440/497], Loss: 1.9741, Accuracy: 56.25%\n",
            "Epoch [4/5], Step [450/497], Loss: 2.0017, Accuracy: 46.88%\n",
            "Epoch [4/5], Step [460/497], Loss: 1.9282, Accuracy: 37.50%\n",
            "Epoch [4/5], Step [470/497], Loss: 1.7900, Accuracy: 43.75%\n",
            "Epoch [4/5], Step [480/497], Loss: 1.7389, Accuracy: 53.12%\n",
            "Epoch [4/5], Step [490/497], Loss: 1.8593, Accuracy: 50.00%\n",
            "Epoch [5/5], Step [10/497], Loss: 2.0753, Accuracy: 43.75%\n",
            "Epoch [5/5], Step [20/497], Loss: 1.5097, Accuracy: 56.25%\n",
            "Epoch [5/5], Step [30/497], Loss: 1.8428, Accuracy: 53.12%\n",
            "Epoch [5/5], Step [40/497], Loss: 1.7762, Accuracy: 59.38%\n",
            "Epoch [5/5], Step [50/497], Loss: 1.7261, Accuracy: 56.25%\n",
            "Epoch [5/5], Step [60/497], Loss: 2.1687, Accuracy: 37.50%\n",
            "Epoch [5/5], Step [70/497], Loss: 2.0508, Accuracy: 40.62%\n",
            "Epoch [5/5], Step [80/497], Loss: 2.0356, Accuracy: 53.12%\n",
            "Epoch [5/5], Step [90/497], Loss: 1.9603, Accuracy: 56.25%\n",
            "Epoch [5/5], Step [100/497], Loss: 2.2383, Accuracy: 37.50%\n",
            "Epoch [5/5], Step [110/497], Loss: 1.9146, Accuracy: 46.88%\n",
            "Epoch [5/5], Step [120/497], Loss: 2.0264, Accuracy: 50.00%\n",
            "Epoch [5/5], Step [130/497], Loss: 1.6766, Accuracy: 53.12%\n",
            "Epoch [5/5], Step [140/497], Loss: 2.0064, Accuracy: 50.00%\n",
            "Epoch [5/5], Step [150/497], Loss: 1.8843, Accuracy: 53.12%\n",
            "Epoch [5/5], Step [160/497], Loss: 1.8374, Accuracy: 40.62%\n",
            "Epoch [5/5], Step [170/497], Loss: 1.9489, Accuracy: 50.00%\n",
            "Epoch [5/5], Step [180/497], Loss: 1.8994, Accuracy: 53.12%\n",
            "Epoch [5/5], Step [190/497], Loss: 2.5441, Accuracy: 37.50%\n",
            "Epoch [5/5], Step [200/497], Loss: 2.0216, Accuracy: 43.75%\n",
            "Epoch [5/5], Step [210/497], Loss: 1.8053, Accuracy: 53.12%\n",
            "Epoch [5/5], Step [220/497], Loss: 2.0985, Accuracy: 37.50%\n",
            "Epoch [5/5], Step [230/497], Loss: 2.3256, Accuracy: 43.75%\n",
            "Epoch [5/5], Step [240/497], Loss: 1.6427, Accuracy: 56.25%\n",
            "Epoch [5/5], Step [250/497], Loss: 2.2617, Accuracy: 40.62%\n",
            "Epoch [5/5], Step [260/497], Loss: 1.7306, Accuracy: 43.75%\n",
            "Epoch [5/5], Step [270/497], Loss: 1.8635, Accuracy: 43.75%\n",
            "Epoch [5/5], Step [280/497], Loss: 2.0667, Accuracy: 43.75%\n",
            "Epoch [5/5], Step [290/497], Loss: 1.8656, Accuracy: 53.12%\n",
            "Epoch [5/5], Step [300/497], Loss: 1.9937, Accuracy: 43.75%\n",
            "Epoch [5/5], Step [310/497], Loss: 1.7106, Accuracy: 56.25%\n",
            "Epoch [5/5], Step [320/497], Loss: 1.9300, Accuracy: 46.88%\n",
            "Epoch [5/5], Step [330/497], Loss: 1.9705, Accuracy: 56.25%\n",
            "Epoch [5/5], Step [340/497], Loss: 2.4304, Accuracy: 31.25%\n",
            "Epoch [5/5], Step [350/497], Loss: 1.6291, Accuracy: 65.62%\n",
            "Epoch [5/5], Step [360/497], Loss: 1.7833, Accuracy: 46.88%\n",
            "Epoch [5/5], Step [370/497], Loss: 1.9539, Accuracy: 50.00%\n",
            "Epoch [5/5], Step [380/497], Loss: 1.6159, Accuracy: 50.00%\n",
            "Epoch [5/5], Step [390/497], Loss: 1.9789, Accuracy: 43.75%\n",
            "Epoch [5/5], Step [400/497], Loss: 2.0683, Accuracy: 37.50%\n",
            "Epoch [5/5], Step [410/497], Loss: 2.3044, Accuracy: 31.25%\n",
            "Epoch [5/5], Step [420/497], Loss: 1.4919, Accuracy: 68.75%\n",
            "Epoch [5/5], Step [430/497], Loss: 2.0733, Accuracy: 40.62%\n",
            "Epoch [5/5], Step [440/497], Loss: 2.0492, Accuracy: 43.75%\n",
            "Epoch [5/5], Step [450/497], Loss: 1.7910, Accuracy: 46.88%\n",
            "Epoch [5/5], Step [460/497], Loss: 2.2836, Accuracy: 40.62%\n",
            "Epoch [5/5], Step [470/497], Loss: 1.8713, Accuracy: 40.62%\n",
            "Epoch [5/5], Step [480/497], Loss: 1.7549, Accuracy: 50.00%\n",
            "Epoch [5/5], Step [490/497], Loss: 2.0988, Accuracy: 34.38%\n",
            "######## Training Finished in 2524.925327062607 seconds ###########\n"
          ]
        }
      ]
    },
    {
      "cell_type": "code",
      "source": [
        "net.eval() \n",
        "perds = []\n",
        "target = []\n",
        "with torch.no_grad(): \n",
        "    correct = 0\n",
        "    total = 0\n",
        "    for data in data_loader_test:\n",
        "        images, labels = data[0].to(device), data[1].to(device)\n",
        "        outputs = net(images)\n",
        "        _, predicted = torch.max(outputs.data, 1)\n",
        "        perds.extend(predicted)\n",
        "        target.extend(labels)\n",
        "        total += labels.size(0)\n",
        "        correct += (predicted == labels).sum().item()\n",
        "    print('Test Accuracy of the model on the {} test images: {} %'\n",
        "        .format(total, (correct / total) * 100))\n",
        "    "
      ],
      "metadata": {
        "colab": {
          "base_uri": "https://localhost:8080/"
        },
        "id": "9sHAH3RSPx-z",
        "outputId": "f7af4c0c-6976-4ba0-d81d-7e65c6b7b9a2"
      },
      "execution_count": 7,
      "outputs": [
        {
          "output_type": "stream",
          "name": "stdout",
          "text": [
            "Test Accuracy of the model on the 5292 test images: 47.694633408919124 %\n"
          ]
        }
      ]
    },
    {
      "cell_type": "code",
      "source": [
        "!pip install torchmetrics"
      ],
      "metadata": {
        "colab": {
          "base_uri": "https://localhost:8080/"
        },
        "id": "i2-qqitjLSbi",
        "outputId": "18d6828c-e734-4fae-ee73-391e081fdc8e"
      },
      "execution_count": 8,
      "outputs": [
        {
          "output_type": "stream",
          "name": "stdout",
          "text": [
            "Looking in indexes: https://pypi.org/simple, https://us-python.pkg.dev/colab-wheels/public/simple/\n",
            "Collecting torchmetrics\n",
            "  Downloading torchmetrics-0.10.2-py3-none-any.whl (529 kB)\n",
            "\u001b[K     |████████████████████████████████| 529 kB 25.0 MB/s \n",
            "\u001b[?25hRequirement already satisfied: packaging in /usr/local/lib/python3.7/dist-packages (from torchmetrics) (21.3)\n",
            "Requirement already satisfied: typing-extensions in /usr/local/lib/python3.7/dist-packages (from torchmetrics) (4.1.1)\n",
            "Requirement already satisfied: torch>=1.3.1 in /usr/local/lib/python3.7/dist-packages (from torchmetrics) (1.12.1+cu113)\n",
            "Requirement already satisfied: numpy>=1.17.2 in /usr/local/lib/python3.7/dist-packages (from torchmetrics) (1.21.6)\n",
            "Requirement already satisfied: pyparsing!=3.0.5,>=2.0.2 in /usr/local/lib/python3.7/dist-packages (from packaging->torchmetrics) (3.0.9)\n",
            "Installing collected packages: torchmetrics\n",
            "Successfully installed torchmetrics-0.10.2\n"
          ]
        }
      ]
    },
    {
      "cell_type": "code",
      "source": [
        "from torchmetrics.functional import precision_recall\n",
        "from torchmetrics import F1Score\n",
        "from torchmetrics import ConfusionMatrix\n",
        "perds1 = torch.stack(perds)\n",
        "target1 = torch.stack(target)\n",
        "f1 = F1Score(num_classes=4).to(device)\n",
        "print(f1(perds1, target1))\n",
        "print(precision_recall(perds1, target1, average='macro', num_classes=4))\n",
        "confmat = ConfusionMatrix(num_classes=4).to(device)\n",
        "confmat(perds1, target1)"
      ],
      "metadata": {
        "colab": {
          "base_uri": "https://localhost:8080/"
        },
        "id": "DLgDx04aAe6y",
        "outputId": "28b822f8-fc1a-417f-90c0-a468e00cfba7"
      },
      "execution_count": 9,
      "outputs": [
        {
          "output_type": "stream",
          "name": "stdout",
          "text": [
            "tensor(0.4769, device='cuda:0')\n",
            "(tensor(0.1192, device='cuda:0'), tensor(0.2500, device='cuda:0'))\n"
          ]
        },
        {
          "output_type": "execute_result",
          "data": {
            "text/plain": [
              "tensor([[   0,    0,  924,    0],\n",
              "        [   0,    0, 1508,    0],\n",
              "        [   0,    0, 2524,    0],\n",
              "        [   0,    0,  336,    0]], device='cuda:0')"
            ]
          },
          "metadata": {},
          "execution_count": 9
        }
      ]
    },
    {
      "cell_type": "code",
      "source": [],
      "metadata": {
        "id": "h14RU-xvAe34"
      },
      "execution_count": null,
      "outputs": []
    },
    {
      "cell_type": "code",
      "source": [],
      "metadata": {
        "id": "KXwtLs-GAewa"
      },
      "execution_count": null,
      "outputs": []
    },
    {
      "cell_type": "code",
      "source": [],
      "metadata": {
        "id": "gllrsvUlAeha"
      },
      "execution_count": null,
      "outputs": []
    }
  ]
}