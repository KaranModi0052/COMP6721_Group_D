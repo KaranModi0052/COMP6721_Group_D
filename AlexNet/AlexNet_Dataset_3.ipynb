{
 "cells": [
  {
   "cell_type": "code",
   "execution_count": 2,
   "id": "a3e79247",
   "metadata": {
    "id": "a3e79247"
   },
   "outputs": [],
   "source": [
    "import torch\n",
    "import torchvision.transforms as transforms\n",
    "import torchvision.datasets as datasets\n",
    "import torch.utils.data as td\n",
    "import numpy as np\n",
    "import matplotlib.pyplot as plt\n",
    "import torch.nn as nn\n",
    "import torch.nn.functional as F\n",
    "from matplotlib import image\n",
    "from matplotlib import pyplot\n",
    "import time"
   ]
  },
  {
   "cell_type": "code",
   "execution_count": 3,
   "id": "308235d6",
   "metadata": {
    "id": "308235d6"
   },
   "outputs": [],
   "source": [
    "from numpy.core.fromnumeric import shape\n",
    "def load_data(path,batch_size,input_size):\n",
    "    \n",
    "    normalize = transforms.Compose([\n",
    "        transforms.Resize((227,227)),\n",
    "        transforms.RandomHorizontalFlip(),\n",
    "        transforms.ToTensor(),\n",
    "        transforms.Normalize(mean=[0.5, 0.5, 0.5], std=[0.5, 0.5, 0.5])\n",
    "        ]) \n",
    "    transform_dict = {\"src\":  normalize}  \n",
    "    # train_path=path+\"/train\"\n",
    "    # test_path=path+\"/test\"\n",
    "    data = datasets.ImageFolder(root=path,transform=transform_dict[\"src\"])\n",
    "    # transform_dict1 = {\"test\":  normalize} \n",
    "    # test1 = datasets.ImageFolder(root=path,transform=transform_dict[\"test\"])\n",
    "    # transform_dict = {\"test\":  normalize}\n",
    "    # test= datasets.ImageFolder(root=path,transform=transform_dict[\"test\"])\n",
    "    # train_size = int((1- (test_split + val_split)) * len(data))\n",
    "    # test_size = int((1 - (val_split)) * len(data)) - train_size\n",
    "    # val_size = len(data) - train_size - test_size\n",
    "    train_size=int(0.75*len(data))\n",
    "    test_size=int(len(data)-train_size)\n",
    "    train, test = td.random_split(data,[train_size,test_size])\n",
    "\n",
    "    data_loader_train = td.DataLoader(train,batch_size=batch_size,shuffle=True,drop_last=False,num_workers=0)\n",
    "    data_loader_test = td.DataLoader(test,batch_size=batch_size,shuffle=True,drop_last=False,num_workers=0)\n",
    "    # data_loader_val = td.DataLoader(val,batch_size=batch_size,shuffle=True,drop_last=False,num_workers=0)\n",
    "    return data_loader_train, data_loader_test"
   ]
  },
  {
   "cell_type": "code",
   "execution_count": 4,
   "id": "cae6e61b",
   "metadata": {
    "id": "cae6e61b"
   },
   "outputs": [],
   "source": [
    "data_loader_train,data_loader_test=load_data(r\"C:\\Users\\Admin\\Desktop\\COMP 6721\\Project\\datasets\\Dataset3\",32,64)"
   ]
  },
  {
   "cell_type": "code",
   "execution_count": 5,
   "id": "d970676b",
   "metadata": {
    "id": "d970676b",
    "outputId": "884de54c-d96b-4674-9da8-a4ad1636ba2f"
   },
   "outputs": [
    {
     "data": {
      "text/plain": [
       "32"
      ]
     },
     "execution_count": 5,
     "metadata": {},
     "output_type": "execute_result"
    }
   ],
   "source": [
    "data_loader_test.batch_size"
   ]
  },
  {
   "cell_type": "code",
   "execution_count": 3,
   "id": "FNa7s6OrU8A1",
   "metadata": {
    "colab": {
     "base_uri": "https://localhost:8080/"
    },
    "id": "FNa7s6OrU8A1",
    "outputId": "0705f52c-b10c-4c24-d842-13e6f5596399"
   },
   "outputs": [
    {
     "name": "stdout",
     "output_type": "stream",
     "text": [
      "Mounted at /content/drive\n"
     ]
    }
   ],
   "source": [
    "from google.colab import drive\n",
    "drive.mount('/content/drive')"
   ]
  },
  {
   "cell_type": "code",
   "execution_count": 4,
   "id": "fJEKRRh0_BWG",
   "metadata": {
    "id": "fJEKRRh0_BWG"
   },
   "outputs": [],
   "source": [
    "data_loader_train,data_loader_test=load_data(r\"/content/drive/MyDrive/Project/datasets/Dataset3\",32,64)"
   ]
  },
  {
   "cell_type": "code",
   "execution_count": 6,
   "id": "db79d29c",
   "metadata": {
    "id": "db79d29c",
    "outputId": "0b85155b-c993-4df3-8883-a9f99857025a"
   },
   "outputs": [
    {
     "data": {
      "text/plain": [
       "(380, 512)"
      ]
     },
     "execution_count": 6,
     "metadata": {},
     "output_type": "execute_result"
    }
   ],
   "source": [
    "img2=image.imread(r\"C:\\Users\\Admin\\Desktop\\COMP 6721\\Project\\datasets\\Dataset3\\train\\1.2.826.0.1.3680043.8.498.10144276773552601236124857108161469299-c.png\")\n",
    "img2.shape\n",
    "#                   1.2.826.0.1.3680043.8.498.10299385524344582994601970314833752000-c.png\")\n",
    "# plt.imshow(img2)"
   ]
  },
  {
   "cell_type": "code",
   "execution_count": null,
   "id": "16170f93",
   "metadata": {
    "id": "16170f93"
   },
   "outputs": [],
   "source": [
    "\n",
    "\n",
    "class AlexNet(torch.nn.Module):\n",
    "\n",
    "    def __init__(self, num_classes):\n",
    "        super().__init__()\n",
    "        self.features = torch.nn.Sequential(\n",
    "            torch.nn.Conv2d(3, 64, kernel_size=11, stride=4, padding=2),\n",
    "            torch.nn.ReLU(inplace=True),\n",
    "            torch.nn.MaxPool2d(kernel_size=3, stride=2),\n",
    "            torch.nn.Conv2d(64, 192, kernel_size=5, padding=2),\n",
    "            torch.nn.ReLU(inplace=True),\n",
    "            torch.nn.MaxPool2d(kernel_size=3, stride=2),\n",
    "            torch.nn.Conv2d(192, 384, kernel_size=3, padding=1),\n",
    "            torch.nn.ReLU(inplace=True),\n",
    "            torch.nn.Conv2d(384, 256, kernel_size=3, padding=1),\n",
    "            torch.nn.ReLU(inplace=True),\n",
    "            torch.nn.Conv2d(256, 256, kernel_size=3, padding=1),\n",
    "            torch.nn.ReLU(inplace=True),\n",
    "            torch.nn.MaxPool2d(kernel_size=3, stride=2),\n",
    "        )\n",
    "        self.avgpool = torch.nn.AdaptiveAvgPool2d((6, 6))\n",
    "        self.classifier = torch.nn.Sequential(\n",
    "            torch.nn.Dropout(0.5),\n",
    "            torch.nn.Linear(256 * 6 * 6, 4096),\n",
    "            torch.nn.ReLU(inplace=True),\n",
    "            torch.nn.Dropout(0.5),\n",
    "            torch.nn.Linear(4096, 4096),\n",
    "            torch.nn.ReLU(inplace=True),\n",
    "            torch.nn.Linear(4096, num_classes)\n",
    "        )\n",
    "\n",
    "    def forward(self, x):\n",
    "        x = self.features(x)\n",
    "        x = self.avgpool(x)\n",
    "        x = x.view(x.size(0), 256 * 6 * 6)\n",
    "        logits = self.classifier(x)\n",
    "        return logits"
   ]
  },
  {
   "cell_type": "code",
   "execution_count": 10,
   "id": "f2b7e6f6",
   "metadata": {
    "id": "f2b7e6f6"
   },
   "outputs": [
    {
     "ename": "NameError",
     "evalue": "name 'AlexNet' is not defined",
     "output_type": "error",
     "traceback": [
      "\u001b[1;31m---------------------------------------------------------------------------\u001b[0m",
      "\u001b[1;31mNameError\u001b[0m                                 Traceback (most recent call last)",
      "Cell \u001b[1;32mIn [10], line 2\u001b[0m\n\u001b[0;32m      1\u001b[0m \u001b[38;5;28;01mimport\u001b[39;00m \u001b[38;5;21;01mtorch\u001b[39;00m\u001b[38;5;21;01m.\u001b[39;00m\u001b[38;5;21;01moptim\u001b[39;00m \u001b[38;5;28;01mas\u001b[39;00m \u001b[38;5;21;01moptim\u001b[39;00m\n\u001b[1;32m----> 2\u001b[0m net \u001b[38;5;241m=\u001b[39m \u001b[43mAlexNet\u001b[49m(\u001b[38;5;241m22\u001b[39m)\u001b[38;5;241m.\u001b[39mto(\u001b[38;5;124m'\u001b[39m\u001b[38;5;124mcuda\u001b[39m\u001b[38;5;124m'\u001b[39m)\n\u001b[0;32m      4\u001b[0m criterion \u001b[38;5;241m=\u001b[39m nn\u001b[38;5;241m.\u001b[39mCrossEntropyLoss()\n\u001b[0;32m      5\u001b[0m optimizer \u001b[38;5;241m=\u001b[39m optim\u001b[38;5;241m.\u001b[39mSGD(net\u001b[38;5;241m.\u001b[39mparameters(), lr\u001b[38;5;241m=\u001b[39m\u001b[38;5;241m0.1\u001b[39m, momentum\u001b[38;5;241m=\u001b[39m\u001b[38;5;241m0.9\u001b[39m, weight_decay\u001b[38;5;241m=\u001b[39m\u001b[38;5;241m0.0001\u001b[39m)\n",
      "\u001b[1;31mNameError\u001b[0m: name 'AlexNet' is not defined"
     ]
    }
   ],
   "source": [
    "import torch.optim as optim\n",
    "net = AlexNet(22).to('cuda')\n",
    "\n",
    "criterion = nn.CrossEntropyLoss()\n",
    "optimizer = optim.SGD(net.parameters(), lr=0.1, momentum=0.9, weight_decay=0.0001)\n",
    "scheduler = optim.lr_scheduler.ReduceLROnPlateau(optimizer, factor = 0.1, patience=5)"
   ]
  },
  {
   "cell_type": "code",
   "execution_count": null,
   "id": "8efa56f0",
   "metadata": {
    "id": "8efa56f0",
    "outputId": "45eac94d-0608-47c1-f6cd-455d75e5f2c1"
   },
   "outputs": [
    {
     "name": "stdout",
     "output_type": "stream",
     "text": [
      "Device: cuda:0\n",
      "Epoch [1/30], Step [10/59], Loss: 0.6569, Accuracy: 65.62%\n",
      "Epoch [1/30], Step [20/59], Loss: 0.6119, Accuracy: 71.88%\n",
      "Epoch [1/30], Step [30/59], Loss: 0.7268, Accuracy: 56.25%\n",
      "Epoch [1/30], Step [40/59], Loss: 0.5686, Accuracy: 75.00%\n",
      "Epoch [1/30], Step [50/59], Loss: 0.6701, Accuracy: 62.50%\n",
      "Epoch [2/30], Step [10/59], Loss: 0.6771, Accuracy: 59.38%\n",
      "Epoch [2/30], Step [20/59], Loss: 0.5953, Accuracy: 71.88%\n",
      "Epoch [2/30], Step [30/59], Loss: 0.5330, Accuracy: 81.25%\n",
      "Epoch [2/30], Step [40/59], Loss: 0.6226, Accuracy: 68.75%\n",
      "Epoch [2/30], Step [50/59], Loss: 0.5660, Accuracy: 78.12%\n",
      "Epoch [3/30], Step [10/59], Loss: 0.5317, Accuracy: 87.50%\n",
      "Epoch [3/30], Step [20/59], Loss: 0.4979, Accuracy: 84.38%\n",
      "Epoch [3/30], Step [30/59], Loss: 0.6027, Accuracy: 71.88%\n",
      "Epoch [3/30], Step [40/59], Loss: 0.5172, Accuracy: 81.25%\n",
      "Epoch [3/30], Step [50/59], Loss: 0.6224, Accuracy: 68.75%\n",
      "Epoch [4/30], Step [10/59], Loss: 0.5953, Accuracy: 71.88%\n",
      "Epoch [4/30], Step [20/59], Loss: 0.5757, Accuracy: 75.00%\n",
      "Epoch [4/30], Step [30/59], Loss: 0.6460, Accuracy: 65.62%\n",
      "Epoch [4/30], Step [40/59], Loss: 0.7322, Accuracy: 56.25%\n",
      "Epoch [4/30], Step [50/59], Loss: 0.4501, Accuracy: 87.50%\n",
      "Epoch [5/30], Step [10/59], Loss: 0.6686, Accuracy: 62.50%\n",
      "Epoch [5/30], Step [20/59], Loss: 0.5657, Accuracy: 75.00%\n",
      "Epoch [5/30], Step [30/59], Loss: 0.6589, Accuracy: 65.62%\n",
      "Epoch [5/30], Step [40/59], Loss: 0.5300, Accuracy: 78.12%\n",
      "Epoch [5/30], Step [50/59], Loss: 0.6246, Accuracy: 68.75%\n",
      "Epoch [6/30], Step [10/59], Loss: 0.6243, Accuracy: 68.75%\n",
      "Epoch [6/30], Step [20/59], Loss: 0.5959, Accuracy: 71.88%\n",
      "Epoch [6/30], Step [30/59], Loss: 0.5172, Accuracy: 84.38%\n",
      "Epoch [6/30], Step [40/59], Loss: 0.6223, Accuracy: 68.75%\n",
      "Epoch [6/30], Step [50/59], Loss: 0.6477, Accuracy: 65.62%\n",
      "Epoch [7/30], Step [10/59], Loss: 0.6105, Accuracy: 71.88%\n",
      "Epoch [7/30], Step [20/59], Loss: 0.6178, Accuracy: 81.25%\n",
      "Epoch [7/30], Step [30/59], Loss: 0.5988, Accuracy: 71.88%\n",
      "Epoch [7/30], Step [40/59], Loss: 0.7274, Accuracy: 53.12%\n",
      "Epoch [7/30], Step [50/59], Loss: 0.6243, Accuracy: 68.75%\n",
      "Epoch [8/30], Step [10/59], Loss: 0.5419, Accuracy: 78.12%\n",
      "Epoch [8/30], Step [20/59], Loss: 0.6222, Accuracy: 68.75%\n",
      "Epoch [8/30], Step [30/59], Loss: 0.6144, Accuracy: 81.25%\n",
      "Epoch [8/30], Step [40/59], Loss: 0.9885, Accuracy: 46.88%\n",
      "Epoch [8/30], Step [50/59], Loss: 0.6539, Accuracy: 75.00%\n",
      "Epoch [9/30], Step [10/59], Loss: 0.6267, Accuracy: 68.75%\n",
      "Epoch [9/30], Step [20/59], Loss: 0.6669, Accuracy: 62.50%\n",
      "Epoch [9/30], Step [30/59], Loss: 0.5076, Accuracy: 81.25%\n",
      "Epoch [9/30], Step [40/59], Loss: 0.6501, Accuracy: 65.62%\n",
      "Epoch [9/30], Step [50/59], Loss: 0.5961, Accuracy: 71.88%\n",
      "Epoch [10/30], Step [10/59], Loss: 0.4901, Accuracy: 84.38%\n",
      "Epoch [10/30], Step [20/59], Loss: 0.6796, Accuracy: 62.50%\n",
      "Epoch [10/30], Step [30/59], Loss: 0.6652, Accuracy: 62.50%\n",
      "Epoch [10/30], Step [40/59], Loss: 0.6849, Accuracy: 62.50%\n",
      "Epoch [10/30], Step [50/59], Loss: 0.4850, Accuracy: 90.62%\n",
      "Epoch [11/30], Step [10/59], Loss: 0.6263, Accuracy: 68.75%\n",
      "Epoch [11/30], Step [20/59], Loss: 0.6677, Accuracy: 65.62%\n",
      "Epoch [11/30], Step [30/59], Loss: 0.6013, Accuracy: 71.88%\n",
      "Epoch [11/30], Step [40/59], Loss: 0.5657, Accuracy: 75.00%\n",
      "Epoch [11/30], Step [50/59], Loss: 0.6245, Accuracy: 68.75%\n",
      "Epoch [12/30], Step [10/59], Loss: 0.6451, Accuracy: 65.62%\n",
      "Epoch [12/30], Step [20/59], Loss: 0.5961, Accuracy: 71.88%\n",
      "Epoch [12/30], Step [30/59], Loss: 0.6469, Accuracy: 65.62%\n",
      "Epoch [12/30], Step [40/59], Loss: 0.7413, Accuracy: 62.50%\n",
      "Epoch [12/30], Step [50/59], Loss: 0.6470, Accuracy: 65.62%\n",
      "Epoch [13/30], Step [10/59], Loss: 0.5283, Accuracy: 78.12%\n",
      "Epoch [13/30], Step [20/59], Loss: 0.5795, Accuracy: 78.12%\n",
      "Epoch [13/30], Step [30/59], Loss: 0.6241, Accuracy: 68.75%\n",
      "Epoch [13/30], Step [40/59], Loss: 0.6299, Accuracy: 68.75%\n",
      "Epoch [13/30], Step [50/59], Loss: 0.6994, Accuracy: 56.25%\n",
      "Epoch [14/30], Step [10/59], Loss: 0.7220, Accuracy: 56.25%\n",
      "Epoch [14/30], Step [20/59], Loss: 0.7590, Accuracy: 53.12%\n",
      "Epoch [14/30], Step [30/59], Loss: 0.6228, Accuracy: 68.75%\n",
      "Epoch [14/30], Step [40/59], Loss: 0.6187, Accuracy: 71.88%\n",
      "Epoch [14/30], Step [50/59], Loss: 0.6262, Accuracy: 68.75%\n",
      "Epoch [15/30], Step [10/59], Loss: 0.6042, Accuracy: 71.88%\n",
      "Epoch [15/30], Step [20/59], Loss: 0.6918, Accuracy: 59.38%\n",
      "Epoch [15/30], Step [30/59], Loss: 0.5954, Accuracy: 71.88%\n",
      "Epoch [15/30], Step [40/59], Loss: 0.6856, Accuracy: 59.38%\n",
      "Epoch [15/30], Step [50/59], Loss: 0.6762, Accuracy: 62.50%\n",
      "Epoch [16/30], Step [10/59], Loss: 0.6055, Accuracy: 71.88%\n",
      "Epoch [16/30], Step [20/59], Loss: 0.6258, Accuracy: 68.75%\n",
      "Epoch [16/30], Step [30/59], Loss: 0.6639, Accuracy: 62.50%\n",
      "Epoch [16/30], Step [40/59], Loss: 0.6260, Accuracy: 68.75%\n",
      "Epoch [16/30], Step [50/59], Loss: 0.6289, Accuracy: 68.75%\n",
      "Epoch [17/30], Step [10/59], Loss: 0.4654, Accuracy: 84.38%\n",
      "Epoch [17/30], Step [20/59], Loss: 0.5889, Accuracy: 75.00%\n",
      "Epoch [17/30], Step [30/59], Loss: 0.5848, Accuracy: 75.00%\n",
      "Epoch [17/30], Step [40/59], Loss: 0.5973, Accuracy: 71.88%\n",
      "Epoch [17/30], Step [50/59], Loss: 0.6459, Accuracy: 65.62%\n",
      "Epoch [18/30], Step [10/59], Loss: 0.7118, Accuracy: 59.38%\n",
      "Epoch [18/30], Step [20/59], Loss: 0.5909, Accuracy: 75.00%\n",
      "Epoch [18/30], Step [30/59], Loss: 0.6231, Accuracy: 68.75%\n",
      "Epoch [18/30], Step [40/59], Loss: 0.6055, Accuracy: 75.00%\n",
      "Epoch [18/30], Step [50/59], Loss: 0.6004, Accuracy: 71.88%\n",
      "Epoch [19/30], Step [10/59], Loss: 0.5666, Accuracy: 75.00%\n",
      "Epoch [19/30], Step [20/59], Loss: 0.7949, Accuracy: 53.12%\n",
      "Epoch [19/30], Step [30/59], Loss: 0.6808, Accuracy: 59.38%\n",
      "Epoch [19/30], Step [40/59], Loss: 0.6490, Accuracy: 65.62%\n",
      "Epoch [19/30], Step [50/59], Loss: 0.6368, Accuracy: 68.75%\n",
      "Epoch [20/30], Step [10/59], Loss: 0.6641, Accuracy: 65.62%\n",
      "Epoch [20/30], Step [20/59], Loss: 0.5720, Accuracy: 78.12%\n",
      "Epoch [20/30], Step [30/59], Loss: 0.6234, Accuracy: 68.75%\n",
      "Epoch [20/30], Step [40/59], Loss: 0.6631, Accuracy: 62.50%\n",
      "Epoch [20/30], Step [50/59], Loss: 0.6496, Accuracy: 65.62%\n",
      "Epoch [21/30], Step [10/59], Loss: 0.7154, Accuracy: 56.25%\n",
      "Epoch [21/30], Step [20/59], Loss: 0.5737, Accuracy: 81.25%\n",
      "Epoch [21/30], Step [30/59], Loss: 0.6543, Accuracy: 65.62%\n",
      "Epoch [21/30], Step [40/59], Loss: 0.6242, Accuracy: 68.75%\n",
      "Epoch [21/30], Step [50/59], Loss: 0.6375, Accuracy: 68.75%\n",
      "Epoch [22/30], Step [10/59], Loss: 0.6598, Accuracy: 65.62%\n",
      "Epoch [22/30], Step [20/59], Loss: 0.6119, Accuracy: 71.88%\n",
      "Epoch [22/30], Step [30/59], Loss: 0.5051, Accuracy: 81.25%\n",
      "Epoch [22/30], Step [40/59], Loss: 0.6006, Accuracy: 71.88%\n",
      "Epoch [22/30], Step [50/59], Loss: 0.6002, Accuracy: 75.00%\n",
      "Epoch [23/30], Step [10/59], Loss: 0.6636, Accuracy: 62.50%\n",
      "Epoch [23/30], Step [20/59], Loss: 0.4560, Accuracy: 84.38%\n",
      "Epoch [23/30], Step [30/59], Loss: 0.5997, Accuracy: 71.88%\n",
      "Epoch [23/30], Step [40/59], Loss: 0.6477, Accuracy: 65.62%\n",
      "Epoch [23/30], Step [50/59], Loss: 0.6488, Accuracy: 65.62%\n",
      "Epoch [24/30], Step [10/59], Loss: 0.6818, Accuracy: 59.38%\n",
      "Epoch [24/30], Step [20/59], Loss: 0.5523, Accuracy: 78.12%\n",
      "Epoch [24/30], Step [30/59], Loss: 0.6457, Accuracy: 65.62%\n",
      "Epoch [24/30], Step [40/59], Loss: 0.5955, Accuracy: 71.88%\n",
      "Epoch [24/30], Step [50/59], Loss: 0.6807, Accuracy: 62.50%\n",
      "Epoch [25/30], Step [10/59], Loss: 0.6220, Accuracy: 68.75%\n",
      "Epoch [25/30], Step [20/59], Loss: 0.6630, Accuracy: 62.50%\n",
      "Epoch [25/30], Step [30/59], Loss: 0.6627, Accuracy: 65.62%\n",
      "Epoch [25/30], Step [40/59], Loss: 0.6227, Accuracy: 68.75%\n",
      "Epoch [25/30], Step [50/59], Loss: 0.6015, Accuracy: 71.88%\n",
      "Epoch [26/30], Step [10/59], Loss: 0.7179, Accuracy: 59.38%\n",
      "Epoch [26/30], Step [20/59], Loss: 0.6624, Accuracy: 62.50%\n",
      "Epoch [26/30], Step [30/59], Loss: 0.7350, Accuracy: 53.12%\n",
      "Epoch [26/30], Step [40/59], Loss: 0.6348, Accuracy: 68.75%\n",
      "Epoch [26/30], Step [50/59], Loss: 0.6339, Accuracy: 68.75%\n",
      "Epoch [27/30], Step [10/59], Loss: 0.6914, Accuracy: 56.25%\n",
      "Epoch [27/30], Step [20/59], Loss: 0.5986, Accuracy: 71.88%\n",
      "Epoch [27/30], Step [30/59], Loss: 0.7381, Accuracy: 59.38%\n",
      "Epoch [27/30], Step [40/59], Loss: 0.6228, Accuracy: 68.75%\n",
      "Epoch [27/30], Step [50/59], Loss: 0.7023, Accuracy: 62.50%\n",
      "Epoch [28/30], Step [10/59], Loss: 0.8845, Accuracy: 56.25%\n",
      "Epoch [28/30], Step [20/59], Loss: 0.6124, Accuracy: 71.88%\n",
      "Epoch [28/30], Step [30/59], Loss: 0.6334, Accuracy: 68.75%\n"
     ]
    },
    {
     "name": "stdout",
     "output_type": "stream",
     "text": [
      "Epoch [28/30], Step [40/59], Loss: 0.5976, Accuracy: 71.88%\n",
      "Epoch [28/30], Step [50/59], Loss: 0.6636, Accuracy: 62.50%\n",
      "Epoch [29/30], Step [10/59], Loss: 0.6899, Accuracy: 59.38%\n",
      "Epoch [29/30], Step [20/59], Loss: 0.7076, Accuracy: 56.25%\n",
      "Epoch [29/30], Step [30/59], Loss: 0.5734, Accuracy: 75.00%\n",
      "Epoch [29/30], Step [40/59], Loss: 0.5738, Accuracy: 75.00%\n",
      "Epoch [29/30], Step [50/59], Loss: 0.6463, Accuracy: 65.62%\n",
      "Epoch [30/30], Step [10/59], Loss: 0.5160, Accuracy: 84.38%\n",
      "Epoch [30/30], Step [20/59], Loss: 0.6673, Accuracy: 65.62%\n",
      "Epoch [30/30], Step [30/59], Loss: 0.5812, Accuracy: 78.12%\n",
      "Epoch [30/30], Step [40/59], Loss: 0.5881, Accuracy: 75.00%\n",
      "Epoch [30/30], Step [50/59], Loss: 0.7067, Accuracy: 59.38%\n",
      "######## Training Finished in 370.55488896369934 seconds ###########\n"
     ]
    }
   ],
   "source": [
    "###### Define and run your training loop here #########\n",
    "device = torch.device(\"cuda:0\" if torch.cuda.is_available() else \"cpu\")\n",
    "print(\"Device: {}\".format(device))\n",
    "net.to(device)\n",
    "acc_array = []\n",
    "num_epochs = 30\n",
    "total_steps = len(data_loader_train)\n",
    "t1 = time.time()\n",
    "for epoch in range(num_epochs):\n",
    "    for i, data in enumerate(data_loader_train):\n",
    "        images, labels = data[0].to(device), data[1].to(device)\n",
    "        # Forward pass\n",
    "        outputs = net(images)\n",
    "        loss = criterion(outputs, labels)\n",
    "        # print(\"kjnfjnrnkrn\",i)\n",
    "        # Backprop and optimisation\n",
    "        optimizer.zero_grad()\n",
    "        loss.backward()\n",
    "        optimizer.step()\n",
    "        # print(\"second time\",i)\n",
    "        # Train accuracy\n",
    "        total = labels.size(0)\n",
    "        _,predicted = torch.max(outputs.data, 1)\n",
    "        correct = (predicted == labels).sum().item()\n",
    "        if (i + 1) % 10 == 0:\n",
    "            print('Epoch [{}/{}], Step [{}/{}], Loss: {:.4f}, Accuracy: {:.2f}%'\n",
    "                .format(epoch + 1, num_epochs, i + 1, total_steps, loss.item(),\n",
    "                    (correct / total) * 100))\n",
    "            accuracy = (correct / total) * 100\n",
    "            acc_array.append(float(accuracy))\n",
    "            \n",
    "print(\"######## Training Finished in {} seconds ###########\".format(time.time()-t1))"
   ]
  },
  {
   "cell_type": "code",
   "execution_count": null,
   "id": "ed2f139e",
   "metadata": {
    "id": "ed2f139e",
    "outputId": "162e2b80-ac1c-4c17-adcd-a0f81572fb55"
   },
   "outputs": [
    {
     "name": "stdout",
     "output_type": "stream",
     "text": [
      "Test Accuracy of the model on the 621 test images: 74.07407407407408 %\n"
     ]
    }
   ],
   "source": [
    "######## Write your code here #############\n",
    "net.eval() \n",
    "count=0\n",
    "with torch.no_grad(): \n",
    "    correct = 0\n",
    "    total = 0\n",
    "    for data in data_loader_test:\n",
    "        # count+=1\n",
    "        # print(count)\n",
    "        images, labels = data[0].to(device), data[1].to(device)\n",
    "        outputs = net(images)\n",
    "        _, predicted = torch.max(outputs.data, 1)\n",
    "        total += labels.size(0)\n",
    "        correct += (predicted == labels).sum().item()\n",
    "    print('Test Accuracy of the model on the {} test images: {} %'\n",
    "        .format(total, (correct / total) * 100))"
   ]
  },
  {
   "cell_type": "markdown",
   "id": "27f3d4ba",
   "metadata": {},
   "source": [
    "## Training the dataset with AlexNet fetching directly from Pytorch"
   ]
  },
  {
   "cell_type": "code",
   "execution_count": 7,
   "id": "h0JOU0Jq-zfs",
   "metadata": {
    "colab": {
     "base_uri": "https://localhost:8080/"
    },
    "id": "h0JOU0Jq-zfs",
    "outputId": "1f2be461-b6a6-48f7-db9a-1b35b317d3f2"
   },
   "outputs": [
    {
     "name": "stderr",
     "output_type": "stream",
     "text": [
      "Using cache found in C:\\Users\\Admin/.cache\\torch\\hub\\pytorch_vision_v0.10.0\n",
      "C:\\Users\\Admin\\anaconda3\\envs\\pytorch\\lib\\site-packages\\torchvision\\models\\_utils.py:208: UserWarning: The parameter 'pretrained' is deprecated since 0.13 and may be removed in the future, please use 'weights' instead.\n",
      "  warnings.warn(\n",
      "C:\\Users\\Admin\\anaconda3\\envs\\pytorch\\lib\\site-packages\\torchvision\\models\\_utils.py:223: UserWarning: Arguments other than a weight enum or `None` for 'weights' are deprecated since 0.13 and may be removed in the future. The current behavior is equivalent to passing `weights=None`.\n",
      "  warnings.warn(msg)\n"
     ]
    }
   ],
   "source": [
    "import torch.optim as optim\n",
    "\n",
    "import torch\n",
    "model = torch.hub.load('pytorch/vision:v0.10.0', 'alexnet', pretrained=False).to('cuda')\n",
    "\n",
    "criterion = nn.CrossEntropyLoss()\n",
    "optimizer = optim.SGD(model.parameters(), lr=0.01, momentum=0.9, weight_decay=0.0001)\n",
    "scheduler = optim.lr_scheduler.ReduceLROnPlateau(optimizer, factor = 0.1, patience=5)"
   ]
  },
  {
   "cell_type": "code",
   "execution_count": 18,
   "id": "AIJmL8Ps_Wg0",
   "metadata": {
    "colab": {
     "base_uri": "https://localhost:8080/"
    },
    "id": "AIJmL8Ps_Wg0",
    "outputId": "264a6a0d-0abd-4265-d9f0-e450b95f7d69"
   },
   "outputs": [
    {
     "name": "stdout",
     "output_type": "stream",
     "text": [
      "Device: cuda:0\n",
      "Epoch [1/5], Step [10/59], Loss: 0.7234, Accuracy: 56.25%\n",
      "Epoch [1/5], Step [20/59], Loss: 0.6576, Accuracy: 65.62%\n",
      "Epoch [1/5], Step [30/59], Loss: 0.5519, Accuracy: 78.12%\n",
      "Epoch [1/5], Step [40/59], Loss: 0.5413, Accuracy: 81.25%\n",
      "Epoch [1/5], Step [50/59], Loss: 0.4948, Accuracy: 81.25%\n",
      "Epoch [2/5], Step [10/59], Loss: 0.5302, Accuracy: 84.38%\n",
      "Epoch [2/5], Step [20/59], Loss: 0.6495, Accuracy: 65.62%\n",
      "Epoch [2/5], Step [30/59], Loss: 0.6460, Accuracy: 65.62%\n",
      "Epoch [2/5], Step [40/59], Loss: 0.5276, Accuracy: 78.12%\n",
      "Epoch [2/5], Step [50/59], Loss: 0.6355, Accuracy: 68.75%\n",
      "Epoch [3/5], Step [10/59], Loss: 0.6450, Accuracy: 71.88%\n",
      "Epoch [3/5], Step [20/59], Loss: 0.5975, Accuracy: 71.88%\n",
      "Epoch [3/5], Step [30/59], Loss: 0.7153, Accuracy: 62.50%\n",
      "Epoch [3/5], Step [40/59], Loss: 0.5646, Accuracy: 75.00%\n",
      "Epoch [3/5], Step [50/59], Loss: 0.5960, Accuracy: 71.88%\n",
      "Epoch [4/5], Step [10/59], Loss: 0.6639, Accuracy: 65.62%\n",
      "Epoch [4/5], Step [20/59], Loss: 0.6883, Accuracy: 62.50%\n",
      "Epoch [4/5], Step [30/59], Loss: 0.7250, Accuracy: 62.50%\n",
      "Epoch [4/5], Step [40/59], Loss: 0.5780, Accuracy: 81.25%\n",
      "Epoch [4/5], Step [50/59], Loss: 0.5640, Accuracy: 75.00%\n",
      "Epoch [5/5], Step [10/59], Loss: 0.5643, Accuracy: 75.00%\n",
      "Epoch [5/5], Step [20/59], Loss: 0.6004, Accuracy: 71.88%\n",
      "Epoch [5/5], Step [30/59], Loss: 0.7062, Accuracy: 59.38%\n",
      "Epoch [5/5], Step [40/59], Loss: 0.5210, Accuracy: 81.25%\n",
      "Epoch [5/5], Step [50/59], Loss: 0.7227, Accuracy: 56.25%\n",
      "######## Training Finished in 61.79754567146301 seconds ###########\n"
     ]
    }
   ],
   "source": [
    "###### Define and run your training loop here #########\n",
    "device = torch.device(\"cuda:0\" if torch.cuda.is_available() else \"cpu\")\n",
    "print(\"Device: {}\".format(device))\n",
    "model.to(device)\n",
    "\n",
    "num_epochs = 5\n",
    "total_steps = len(data_loader_train)\n",
    "t1 = time.time()\n",
    "for epoch in range(num_epochs):\n",
    "    for i, data in enumerate(data_loader_train):\n",
    "        images, labels = data[0].to(device), data[1].to(device)\n",
    "        # Forward pass\n",
    "        outputs = model(images)\n",
    "        loss = criterion(outputs, labels)\n",
    "#         print(\"kjnfjnrnkrn\",i)\\\\\n",
    "        # Backprop and optimisation\n",
    "        optimizer.zero_grad()\n",
    "        loss.backward()\n",
    "        optimizer.step()\n",
    "#         print(\"second time\",i)\n",
    "        # Train accuracy\n",
    "        total = labels.size(0)\n",
    "        _,predicted = torch.max(outputs.data, 1)\n",
    "        correct = (predicted == labels).sum().item()\n",
    "        if (i + 1) % 10 == 0:\n",
    "            print('Epoch [{}/{}], Step [{}/{}], Loss: {:.4f}, Accuracy: {:.2f}%'\n",
    "                .format(epoch + 1, num_epochs, i + 1, total_steps, loss.item(),\n",
    "                    (correct / total) * 100))\n",
    "            \n",
    "print(\"######## Training Finished in {} seconds ###########\".format(time.time()-t1))"
   ]
  },
  {
   "cell_type": "code",
   "execution_count": 19,
   "id": "WV4bZ-1yE_bA",
   "metadata": {
    "colab": {
     "base_uri": "https://localhost:8080/"
    },
    "id": "WV4bZ-1yE_bA",
    "outputId": "593d9217-613f-40e1-8c32-7fd9958a009f"
   },
   "outputs": [
    {
     "name": "stdout",
     "output_type": "stream",
     "text": [
      "Test Accuracy of the model on the 621 test images: 69.24315619967794 %\n"
     ]
    }
   ],
   "source": [
    "model.eval() \n",
    "perds = []\n",
    "target = []\n",
    "with torch.no_grad(): \n",
    "    correct = 0\n",
    "    total = 0\n",
    "    for data in data_loader_test:\n",
    "        images, labels = data[0].to(device), data[1].to(device)\n",
    "        outputs = model(images)\n",
    "        _, predicted = torch.max(outputs.data, 1)\n",
    "        perds.extend(predicted)\n",
    "        target.extend(labels)\n",
    "        total += labels.size(0)\n",
    "        correct += (predicted == labels).sum().item()\n",
    "    print('Test Accuracy of the model on the {} test images: {} %'\n",
    "        .format(total, (correct / total) * 100))\n",
    "    \n",
    "# plt.plot(Accuracies)"
   ]
  },
  {
   "cell_type": "code",
   "execution_count": 10,
   "id": "1abc4f39",
   "metadata": {},
   "outputs": [
    {
     "name": "stdout",
     "output_type": "stream",
     "text": [
      "Requirement already satisfied: torchmetrics in c:\\users\\admin\\anaconda3\\envs\\pytorch\\lib\\site-packages (0.10.2)\n",
      "Requirement already satisfied: packaging in c:\\users\\admin\\anaconda3\\envs\\pytorch\\lib\\site-packages (from torchmetrics) (21.3)\n",
      "Requirement already satisfied: typing-extensions in c:\\users\\admin\\anaconda3\\envs\\pytorch\\lib\\site-packages (from torchmetrics) (4.3.0)\n",
      "Requirement already satisfied: torch>=1.3.1 in c:\\users\\admin\\anaconda3\\envs\\pytorch\\lib\\site-packages (from torchmetrics) (1.13.0)\n",
      "Requirement already satisfied: numpy>=1.17.2 in c:\\users\\admin\\anaconda3\\envs\\pytorch\\lib\\site-packages (from torchmetrics) (1.23.3)\n",
      "Requirement already satisfied: pyparsing!=3.0.5,>=2.0.2 in c:\\users\\admin\\anaconda3\\envs\\pytorch\\lib\\site-packages (from packaging->torchmetrics) (3.0.9)\n"
     ]
    }
   ],
   "source": [
    "!pip install torchmetrics"
   ]
  },
  {
   "cell_type": "code",
   "execution_count": 21,
   "id": "9a2be5e9",
   "metadata": {},
   "outputs": [
    {
     "name": "stdout",
     "output_type": "stream",
     "text": [
      "tensor(0.6924, device='cuda:0')\n",
      "(tensor(0.3462, device='cuda:0'), tensor(0.5000, device='cuda:0'))\n"
     ]
    },
    {
     "data": {
      "text/plain": [
       "tensor([[  0, 191,   0,   0],\n",
       "        [  0, 430,   0,   0],\n",
       "        [  0,   0,   0,   0],\n",
       "        [  0,   0,   0,   0]], device='cuda:0')"
      ]
     },
     "execution_count": 21,
     "metadata": {},
     "output_type": "execute_result"
    }
   ],
   "source": [
    "from torchmetrics.functional import precision_recall\n",
    "from torchmetrics import F1Score\n",
    "from torchmetrics import ConfusionMatrix\n",
    "perds1 = torch.stack(perds)\n",
    "target1 = torch.stack(target)\n",
    "f1 = F1Score(num_classes=4).to(device)\n",
    "print(f1(perds1, target1))\n",
    "print(precision_recall(perds1, target1, average='macro', num_classes=4))\n",
    "confmat = ConfusionMatrix(num_classes=4).to(device)\n",
    "confmat(perds1, target1)"
   ]
  },
  {
   "cell_type": "code",
   "execution_count": null,
   "id": "359374be",
   "metadata": {},
   "outputs": [],
   "source": []
  }
 ],
 "metadata": {
  "accelerator": "GPU",
  "colab": {
   "provenance": []
  },
  "gpuClass": "standard",
  "kernelspec": {
   "display_name": "Python 3 (ipykernel)",
   "language": "python",
   "name": "python3"
  },
  "language_info": {
   "codemirror_mode": {
    "name": "ipython",
    "version": 3
   },
   "file_extension": ".py",
   "mimetype": "text/x-python",
   "name": "python",
   "nbconvert_exporter": "python",
   "pygments_lexer": "ipython3",
   "version": "3.8.13"
  }
 },
 "nbformat": 4,
 "nbformat_minor": 5
}
