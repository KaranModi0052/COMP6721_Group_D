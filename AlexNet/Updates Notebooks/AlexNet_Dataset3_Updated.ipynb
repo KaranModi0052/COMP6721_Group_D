{
 "cells": [
  {
   "cell_type": "code",
   "execution_count": 20,
   "id": "684b203d",
   "metadata": {},
   "outputs": [
    {
     "ename": "ModuleNotFoundError",
     "evalue": "No module named 'fastai.callback.all'; 'fastai.callback' is not a package",
     "output_type": "error",
     "traceback": [
      "\u001b[1;31m---------------------------------------------------------------------------\u001b[0m",
      "\u001b[1;31mModuleNotFoundError\u001b[0m                       Traceback (most recent call last)",
      "Cell \u001b[1;32mIn [20], line 4\u001b[0m\n\u001b[0;32m      2\u001b[0m \u001b[38;5;28;01mimport\u001b[39;00m \u001b[38;5;21;01mfastai\u001b[39;00m\n\u001b[0;32m      3\u001b[0m \u001b[38;5;66;03m# print(fastai.__ version __ ) # should be 2.0.0\u001b[39;00m\n\u001b[1;32m----> 4\u001b[0m \u001b[38;5;28;01mfrom\u001b[39;00m \u001b[38;5;21;01mfastai\u001b[39;00m\u001b[38;5;21;01m.\u001b[39;00m\u001b[38;5;21;01mvision\u001b[39;00m\u001b[38;5;21;01m.\u001b[39;00m\u001b[38;5;21;01mall\u001b[39;00m \u001b[38;5;28;01mimport\u001b[39;00m \u001b[38;5;241m*\u001b[39m\n\u001b[0;32m      5\u001b[0m \u001b[38;5;28;01mimport\u001b[39;00m \u001b[38;5;21;01mpandas\u001b[39;00m \u001b[38;5;28;01mas\u001b[39;00m \u001b[38;5;21;01mpd\u001b[39;00m\n\u001b[0;32m      6\u001b[0m get_ipython()\u001b[38;5;241m.\u001b[39mrun_line_magic(\u001b[38;5;124m'\u001b[39m\u001b[38;5;124mmatplotlib\u001b[39m\u001b[38;5;124m'\u001b[39m, \u001b[38;5;124m'\u001b[39m\u001b[38;5;124minline\u001b[39m\u001b[38;5;124m'\u001b[39m)\n",
      "File \u001b[1;32m~\\anaconda3\\envs\\pytorch\\lib\\site-packages\\fastai\\vision\\all.py:3\u001b[0m\n\u001b[0;32m      1\u001b[0m \u001b[38;5;28;01mfrom\u001b[39;00m \u001b[38;5;21;01m.\u001b[39;00m \u001b[38;5;28;01mimport\u001b[39;00m models\n\u001b[0;32m      2\u001b[0m \u001b[38;5;28;01mfrom\u001b[39;00m \u001b[38;5;21;01m.\u001b[39;00m\u001b[38;5;21;01m.\u001b[39;00m\u001b[38;5;21;01mbasics\u001b[39;00m \u001b[38;5;28;01mimport\u001b[39;00m \u001b[38;5;241m*\u001b[39m\n\u001b[1;32m----> 3\u001b[0m \u001b[38;5;28;01mfrom\u001b[39;00m \u001b[38;5;21;01m.\u001b[39;00m\u001b[38;5;21;01m.\u001b[39;00m\u001b[38;5;21;01mcallback\u001b[39;00m\u001b[38;5;21;01m.\u001b[39;00m\u001b[38;5;21;01mall\u001b[39;00m \u001b[38;5;28;01mimport\u001b[39;00m \u001b[38;5;241m*\u001b[39m\n\u001b[0;32m      4\u001b[0m \u001b[38;5;28;01mfrom\u001b[39;00m \u001b[38;5;21;01m.\u001b[39;00m\u001b[38;5;21;01maugment\u001b[39;00m \u001b[38;5;28;01mimport\u001b[39;00m \u001b[38;5;241m*\u001b[39m\n\u001b[0;32m      5\u001b[0m \u001b[38;5;28;01mfrom\u001b[39;00m \u001b[38;5;21;01m.\u001b[39;00m\u001b[38;5;21;01mcore\u001b[39;00m \u001b[38;5;28;01mimport\u001b[39;00m \u001b[38;5;241m*\u001b[39m\n",
      "\u001b[1;31mModuleNotFoundError\u001b[0m: No module named 'fastai.callback.all'; 'fastai.callback' is not a package"
     ]
    }
   ],
   "source": [
    "# !pip install fastai==2.0\n",
    "import fastai\n",
    "# print(fastai.__ version __ ) # should be 2.0.0\n",
    "from fastai.vision.all import *\n",
    "import pandas as pd\n",
    "%matplotlib inline\n",
    "from fastai.vision.all import *"
   ]
  },
  {
   "cell_type": "code",
   "execution_count": 14,
   "id": "8503ca5f",
   "metadata": {},
   "outputs": [
    {
     "ename": "NameError",
     "evalue": "name 'PILImage' is not defined",
     "output_type": "error",
     "traceback": [
      "\u001b[1;31m---------------------------------------------------------------------------\u001b[0m",
      "\u001b[1;31mNameError\u001b[0m                                 Traceback (most recent call last)",
      "Cell \u001b[1;32mIn [14], line 2\u001b[0m\n\u001b[0;32m      1\u001b[0m \u001b[38;5;28;01mimport\u001b[39;00m \u001b[38;5;21;01malbumentations\u001b[39;00m \u001b[38;5;28;01mas\u001b[39;00m \u001b[38;5;21;01mAlb\u001b[39;00m\n\u001b[1;32m----> 2\u001b[0m \u001b[38;5;28;01mclass\u001b[39;00m \u001b[38;5;21;01mAlbTransform\u001b[39;00m(Transform):\n\u001b[0;32m      3\u001b[0m     \u001b[38;5;28;01mdef\u001b[39;00m \u001b[38;5;21m__init__\u001b[39m(\u001b[38;5;28mself\u001b[39m, aug): \u001b[38;5;28mself\u001b[39m\u001b[38;5;241m.\u001b[39maug \u001b[38;5;241m=\u001b[39m aug\n\u001b[0;32m      4\u001b[0m     \u001b[38;5;28;01mdef\u001b[39;00m \u001b[38;5;21mencodes\u001b[39m(\u001b[38;5;28mself\u001b[39m, img: PILImage):\n",
      "Cell \u001b[1;32mIn [14], line 4\u001b[0m, in \u001b[0;36mAlbTransform\u001b[1;34m()\u001b[0m\n\u001b[0;32m      2\u001b[0m \u001b[38;5;28;01mclass\u001b[39;00m \u001b[38;5;21;01mAlbTransform\u001b[39;00m(Transform):\n\u001b[0;32m      3\u001b[0m     \u001b[38;5;28;01mdef\u001b[39;00m \u001b[38;5;21m__init__\u001b[39m(\u001b[38;5;28mself\u001b[39m, aug): \u001b[38;5;28mself\u001b[39m\u001b[38;5;241m.\u001b[39maug \u001b[38;5;241m=\u001b[39m aug\n\u001b[1;32m----> 4\u001b[0m     \u001b[38;5;28;01mdef\u001b[39;00m \u001b[38;5;21mencodes\u001b[39m(\u001b[38;5;28mself\u001b[39m, img: \u001b[43mPILImage\u001b[49m):\n\u001b[0;32m      5\u001b[0m         aug_img \u001b[38;5;241m=\u001b[39m \u001b[38;5;28mself\u001b[39m\u001b[38;5;241m.\u001b[39maug(image\u001b[38;5;241m=\u001b[39mnp\u001b[38;5;241m.\u001b[39marray(img))[\u001b[38;5;124m'\u001b[39m\u001b[38;5;124mimage\u001b[39m\u001b[38;5;124m'\u001b[39m]\n\u001b[0;32m      6\u001b[0m         \u001b[38;5;28;01mreturn\u001b[39;00m PILImage\u001b[38;5;241m.\u001b[39mcreate(aug_img)\n",
      "\u001b[1;31mNameError\u001b[0m: name 'PILImage' is not defined"
     ]
    }
   ],
   "source": [
    "import albumentations as Alb\n",
    "class AlbTransform(Transform):\n",
    "    def __init__(self, aug): self.aug = aug\n",
    "    def encodes(self, img: PILImage):\n",
    "        aug_img = self.aug(image=np.array(img))['image']\n",
    "        return PILImage.create(aug_img)\n",
    "    \n",
    "def get_augs(): return Alb.Compose([\n",
    "    Alb.Transpose(),\n",
    "    Alb.Flip(),\n",
    "    Alb.HorizontalFlip(),\n",
    "    Alb.RandomRotate90(),\n",
    "    Alb.RandomScale(),\n",
    "    Alb.RandomBrightnessContrast(),\n",
    "])\n",
    "\n",
    "item_tfms = [Resize(224), AlbTransform(get_augs())]\n",
    "batch_tfms = Normalize.from_stats(*imagenet_stats) "
   ]
  },
  {
   "cell_type": "code",
   "execution_count": null,
   "id": "f065affb",
   "metadata": {},
   "outputs": [],
   "source": [
    "train_path=\"D:\\Comp 6721\\Datasets\\Dataset3\\train\"\n",
    "train_df = pd.read_csv(r\"D:\\Comp 6721\\Datasets\\Dataset3\\train_df.csv\")\n",
    "train_df['Target'] = train_df['Target'].apply(lambda x: x.strip())\n",
    "# for interactive DEBUG: reduce amount of train images : train_df = train_df[:512]\n",
    "dls = ImageDataLoaders.from_df(train_df, path=train_path, suff='-c.png', # label_delim = ' ',\n",
    "    item_tfms=item_tfms, batch_tfms=batch_tfms, shuffle=True, bs=64, valid_pct=0.)"
   ]
  },
  {
   "cell_type": "code",
   "execution_count": null,
   "id": "414cf6d9",
   "metadata": {},
   "outputs": [],
   "source": [
    "\n",
    "\n",
    "# try this to see dataloader working\n",
    "# dls.train.show_batch(max_n=12)\n",
    "# dls.valid.show_batch(max_n=12)\n",
    "\n"
   ]
  },
  {
   "cell_type": "code",
   "execution_count": null,
   "id": "8c914d17",
   "metadata": {},
   "outputs": [],
   "source": [
    "\n",
    "\n",
    "learn = vision_learner(dls, densenet121, path='.', \n",
    "    loss_func=FocalLoss(),  \n",
    "    metrics=[F1ScoreMulti(average='macro'), F1ScoreMulti(average='weighted'), APScoreMulti()] )\n",
    "\n"
   ]
  },
  {
   "cell_type": "code",
   "execution_count": null,
   "id": "80723600",
   "metadata": {},
   "outputs": [],
   "source": [
    "\n",
    "\n",
    "learn.fine_tune(90, freeze_epochs=3) # learn is performed using fit_one_cycle()\n",
    "\n"
   ]
  },
  {
   "cell_type": "code",
   "execution_count": null,
   "id": "7460e12f",
   "metadata": {},
   "outputs": [],
   "source": [
    "learn.export()"
   ]
  },
  {
   "cell_type": "code",
   "execution_count": null,
   "id": "1357c580",
   "metadata": {},
   "outputs": [],
   "source": [
    "\n",
    "\n",
    "test_path='../input/xray-body-images-in-png-unifesp-competion/images/test'\n",
    "test_df = pd.read_csv('../input/xray-body-images-in-png-unifesp-competion/test_df.csv')\n",
    "tdls = ImageDataLoaders.from_df(test_df, path=test_path, suff='-c.png',\n",
    "    item_tfms=item_tfms, batch_tfms=batch_tfms, shuffle=False)\n",
    "tst_dl = tdls.test_dl(test_df)"
   ]
  },
  {
   "cell_type": "code",
   "execution_count": null,
   "id": "6cdd74eb",
   "metadata": {},
   "outputs": [],
   "source": [
    "preds = learn.tta(dl=tst_dl, n=64, use_max=False)"
   ]
  },
  {
   "cell_type": "code",
   "execution_count": null,
   "id": "ad8c7edc",
   "metadata": {},
   "outputs": [],
   "source": [
    "\n",
    "\n",
    "# simplest single label submission\n",
    "# use this when multilabel like '9 21' is considered as a single class\n",
    "predss = learn.dls.vocab[np.argmax(preds[0], axis=1)]\n",
    "test_df['Target'] = predss\n",
    "submission_df = test_df[['SOPInstanceUID', 'Target']]\n",
    "submission_df.to_csv(f'submission_XRP_argmax.csv', header=True, index=False)\n",
    "submission_df\n",
    "\n"
   ]
  },
  {
   "cell_type": "code",
   "execution_count": null,
   "id": "a1e58fb8",
   "metadata": {},
   "outputs": [],
   "source": [
    "train_df.Target.value_counts()"
   ]
  },
  {
   "cell_type": "code",
   "execution_count": null,
   "id": "8737e3dd",
   "metadata": {},
   "outputs": [],
   "source": [
    "\n",
    "\n",
    "test_df.Target.value_counts() \n",
    "\n"
   ]
  }
 ],
 "metadata": {
  "kernelspec": {
   "display_name": "Python 3 (ipykernel)",
   "language": "python",
   "name": "python3"
  },
  "language_info": {
   "codemirror_mode": {
    "name": "ipython",
    "version": 3
   },
   "file_extension": ".py",
   "mimetype": "text/x-python",
   "name": "python",
   "nbconvert_exporter": "python",
   "pygments_lexer": "ipython3",
   "version": "3.9.15"
  }
 },
 "nbformat": 4,
 "nbformat_minor": 5
}
